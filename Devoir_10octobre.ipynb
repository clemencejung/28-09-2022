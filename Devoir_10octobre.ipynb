{
 "cells": [
  {
   "cell_type": "code",
   "execution_count": null,
   "metadata": {},
   "outputs": [],
   "source": [
    "#Exercice 3-02-pandas-condition\n",
    "#1\n",
    "df=pd.read_csv('titanic.csv')\n",
    "#2\n",
    "df.isna().sum()\n",
    "#3\n",
    "df['Pclass'].value_counts()\n",
    "#4\n",
    "#Taux de survie des femmes en classe 1\n",
    "classe1_femme = (df['Pclass'] == 1) & (df['Survived'] == 1) & (df['Sex']== 'female')\n",
    "femme1= df['Sex']== 'female'\n",
    "print(classe1_femme.sum()*100/femme1.shape)\n",
    "#Taux de survie des hommes en classe 1\n",
    "classe1_homme = (df['Pclass'] == 1) & (df['Survived'] == 1) & (df['Sex']== 'male')\n",
    "homme1= df['Sex']== 'male'\n",
    "print(classe1_homme.sum()*100/homme1.shape)"
   ]
  },
  {
   "cell_type": "code",
   "execution_count": null,
   "metadata": {},
   "outputs": [],
   "source": [
    "#Exercice 3-03-pandas-indexing-slicing\n",
    "df[(df['Age']>=70) & (df['Pclass'] != 1)]"
   ]
  }
 ],
 "metadata": {
  "language_info": {
   "name": "python"
  },
  "orig_nbformat": 4
 },
 "nbformat": 4,
 "nbformat_minor": 2
}
